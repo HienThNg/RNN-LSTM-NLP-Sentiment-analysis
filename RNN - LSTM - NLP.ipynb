{
 "cells": [
  {
   "cell_type": "markdown",
   "id": "63808ded",
   "metadata": {
    "id": "63808ded"
   },
   "source": [
    "- Use Clothing, Shoes and Jewelry dataset (file Clothing_Shoes_and_Jewelry_5.json in reviews_Clothing_Shoes_and_Jewelry_5.json.gz) to build a model to predict customer sentiment (You can categories into 3 groups such as like: 4 or 5 stars, dislike: 1 or 2 stars, neutral :3 stars; or categories into 2 groups...) (**overall** column) based on their review (**reviewText** column)\n",
    "- Read more information here: http://jmcauley.ucsd.edu/data/amazon/"
   ]
  },
  {
   "cell_type": "code",
   "execution_count": 1,
   "id": "8b3e8d63",
   "metadata": {
    "executionInfo": {
     "elapsed": 3318,
     "status": "ok",
     "timestamp": 1688396408679,
     "user": {
      "displayName": "Nguyễn Hiền",
      "userId": "00409256608262569049"
     },
     "user_tz": -420
    },
    "id": "8b3e8d63"
   },
   "outputs": [],
   "source": [
    "import matplotlib.pyplot as plt\n",
    "import pandas as pd\n",
    "from sklearn.model_selection import train_test_split\n",
    "import tensorflow as tf\n",
    "import numpy as np"
   ]
  },
  {
   "cell_type": "code",
   "execution_count": 2,
   "id": "2edb14b5",
   "metadata": {
    "colab": {
     "base_uri": "https://localhost:8080/"
    },
    "executionInfo": {
     "elapsed": 621,
     "status": "ok",
     "timestamp": 1688396409299,
     "user": {
      "displayName": "Nguyễn Hiền",
      "userId": "00409256608262569049"
     },
     "user_tz": -420
    },
    "id": "2edb14b5",
    "outputId": "4254ba02-9b82-4791-8b8f-41f9abaa9c61"
   },
   "outputs": [
    {
     "name": "stderr",
     "output_type": "stream",
     "text": [
      "[nltk_data] Downloading package stopwords to /root/nltk_data...\n",
      "[nltk_data]   Package stopwords is already up-to-date!\n"
     ]
    }
   ],
   "source": [
    "import nltk\n",
    "nltk.download('stopwords')\n",
    "from nltk.corpus import stopwords\n",
    "from nltk.stem import SnowballStemmer\n",
    "import re"
   ]
  },
  {
   "cell_type": "code",
   "execution_count": 3,
   "id": "2KBvDP4wd1zV",
   "metadata": {
    "colab": {
     "base_uri": "https://localhost:8080/"
    },
    "executionInfo": {
     "elapsed": 4583,
     "status": "ok",
     "timestamp": 1688396413880,
     "user": {
      "displayName": "Nguyễn Hiền",
      "userId": "00409256608262569049"
     },
     "user_tz": -420
    },
    "id": "2KBvDP4wd1zV",
    "outputId": "255d63c2-90da-47b6-b0fb-e098720613f2"
   },
   "outputs": [
    {
     "name": "stdout",
     "output_type": "stream",
     "text": [
      "Mounted at /content/gdrive\n"
     ]
    }
   ],
   "source": [
    "from google.colab import drive\n",
    "drive.mount(\"/content/gdrive\", force_remount=True)"
   ]
  },
  {
   "cell_type": "code",
   "execution_count": 4,
   "id": "vfDeZXvAd3fu",
   "metadata": {
    "colab": {
     "base_uri": "https://localhost:8080/"
    },
    "executionInfo": {
     "elapsed": 6,
     "status": "ok",
     "timestamp": 1688396413881,
     "user": {
      "displayName": "Nguyễn Hiền",
      "userId": "00409256608262569049"
     },
     "user_tz": -420
    },
    "id": "vfDeZXvAd3fu",
    "outputId": "b3e0f151-b759-4c01-9614-fbb5777689b3"
   },
   "outputs": [
    {
     "name": "stdout",
     "output_type": "stream",
     "text": [
      "/content/gdrive/MyDrive/DATA SCIENCE - ĐH KHTN/LDS8 - Deep Learning/FinalTest\n"
     ]
    }
   ],
   "source": [
    "%cd '/content/gdrive/MyDrive/DATA SCIENCE - ĐH KHTN/LDS8 - Deep Learning/FinalTest'\n",
    "# %cd '/content/gdrive/MyDrive/Deep Learning'"
   ]
  },
  {
   "cell_type": "code",
   "execution_count": 5,
   "id": "feed2815",
   "metadata": {
    "colab": {
     "base_uri": "https://localhost:8080/",
     "height": 635
    },
    "executionInfo": {
     "elapsed": 9509,
     "status": "ok",
     "timestamp": 1688396423386,
     "user": {
      "displayName": "Nguyễn Hiền",
      "userId": "00409256608262569049"
     },
     "user_tz": -420
    },
    "id": "feed2815",
    "outputId": "6340ab4f-0eba-4b62-edde-2f1e48049838"
   },
   "outputs": [
    {
     "data": {
      "text/html": [
       "\n",
       "  <div id=\"df-8587e71d-f89b-4b57-88af-8c113e36a127\">\n",
       "    <div class=\"colab-df-container\">\n",
       "      <div>\n",
       "<style scoped>\n",
       "    .dataframe tbody tr th:only-of-type {\n",
       "        vertical-align: middle;\n",
       "    }\n",
       "\n",
       "    .dataframe tbody tr th {\n",
       "        vertical-align: top;\n",
       "    }\n",
       "\n",
       "    .dataframe thead th {\n",
       "        text-align: right;\n",
       "    }\n",
       "</style>\n",
       "<table border=\"1\" class=\"dataframe\">\n",
       "  <thead>\n",
       "    <tr style=\"text-align: right;\">\n",
       "      <th></th>\n",
       "      <th>reviewerID</th>\n",
       "      <th>asin</th>\n",
       "      <th>reviewerName</th>\n",
       "      <th>helpful</th>\n",
       "      <th>reviewText</th>\n",
       "      <th>overall</th>\n",
       "      <th>summary</th>\n",
       "      <th>unixReviewTime</th>\n",
       "      <th>reviewTime</th>\n",
       "    </tr>\n",
       "  </thead>\n",
       "  <tbody>\n",
       "    <tr>\n",
       "      <th>0</th>\n",
       "      <td>A1KLRMWW2FWPL4</td>\n",
       "      <td>0000031887</td>\n",
       "      <td>Amazon Customer \"cameramom\"</td>\n",
       "      <td>[0, 0]</td>\n",
       "      <td>This is a great tutu and at a really great pri...</td>\n",
       "      <td>5</td>\n",
       "      <td>Great tutu-  not cheaply made</td>\n",
       "      <td>1297468800</td>\n",
       "      <td>02 12, 2011</td>\n",
       "    </tr>\n",
       "    <tr>\n",
       "      <th>1</th>\n",
       "      <td>A2G5TCU2WDFZ65</td>\n",
       "      <td>0000031887</td>\n",
       "      <td>Amazon Customer</td>\n",
       "      <td>[0, 0]</td>\n",
       "      <td>I bought this for my 4 yr old daughter for dan...</td>\n",
       "      <td>5</td>\n",
       "      <td>Very Cute!!</td>\n",
       "      <td>1358553600</td>\n",
       "      <td>01 19, 2013</td>\n",
       "    </tr>\n",
       "    <tr>\n",
       "      <th>2</th>\n",
       "      <td>A1RLQXYNCMWRWN</td>\n",
       "      <td>0000031887</td>\n",
       "      <td>Carola</td>\n",
       "      <td>[0, 0]</td>\n",
       "      <td>What can I say... my daughters have it in oran...</td>\n",
       "      <td>5</td>\n",
       "      <td>I have buy more than one</td>\n",
       "      <td>1357257600</td>\n",
       "      <td>01 4, 2013</td>\n",
       "    </tr>\n",
       "    <tr>\n",
       "      <th>3</th>\n",
       "      <td>A8U3FAMSJVHS5</td>\n",
       "      <td>0000031887</td>\n",
       "      <td>Caromcg</td>\n",
       "      <td>[0, 0]</td>\n",
       "      <td>We bought several tutus at once, and they are ...</td>\n",
       "      <td>5</td>\n",
       "      <td>Adorable, Sturdy</td>\n",
       "      <td>1398556800</td>\n",
       "      <td>04 27, 2014</td>\n",
       "    </tr>\n",
       "    <tr>\n",
       "      <th>4</th>\n",
       "      <td>A3GEOILWLK86XM</td>\n",
       "      <td>0000031887</td>\n",
       "      <td>CJ</td>\n",
       "      <td>[0, 0]</td>\n",
       "      <td>Thank you Halo Heaven great product for Little...</td>\n",
       "      <td>5</td>\n",
       "      <td>Grammy's Angels Love it</td>\n",
       "      <td>1394841600</td>\n",
       "      <td>03 15, 2014</td>\n",
       "    </tr>\n",
       "  </tbody>\n",
       "</table>\n",
       "</div>\n",
       "      <button class=\"colab-df-convert\" onclick=\"convertToInteractive('df-8587e71d-f89b-4b57-88af-8c113e36a127')\"\n",
       "              title=\"Convert this dataframe to an interactive table.\"\n",
       "              style=\"display:none;\">\n",
       "        \n",
       "  <svg xmlns=\"http://www.w3.org/2000/svg\" height=\"24px\"viewBox=\"0 0 24 24\"\n",
       "       width=\"24px\">\n",
       "    <path d=\"M0 0h24v24H0V0z\" fill=\"none\"/>\n",
       "    <path d=\"M18.56 5.44l.94 2.06.94-2.06 2.06-.94-2.06-.94-.94-2.06-.94 2.06-2.06.94zm-11 1L8.5 8.5l.94-2.06 2.06-.94-2.06-.94L8.5 2.5l-.94 2.06-2.06.94zm10 10l.94 2.06.94-2.06 2.06-.94-2.06-.94-.94-2.06-.94 2.06-2.06.94z\"/><path d=\"M17.41 7.96l-1.37-1.37c-.4-.4-.92-.59-1.43-.59-.52 0-1.04.2-1.43.59L10.3 9.45l-7.72 7.72c-.78.78-.78 2.05 0 2.83L4 21.41c.39.39.9.59 1.41.59.51 0 1.02-.2 1.41-.59l7.78-7.78 2.81-2.81c.8-.78.8-2.07 0-2.86zM5.41 20L4 18.59l7.72-7.72 1.47 1.35L5.41 20z\"/>\n",
       "  </svg>\n",
       "      </button>\n",
       "      \n",
       "  <style>\n",
       "    .colab-df-container {\n",
       "      display:flex;\n",
       "      flex-wrap:wrap;\n",
       "      gap: 12px;\n",
       "    }\n",
       "\n",
       "    .colab-df-convert {\n",
       "      background-color: #E8F0FE;\n",
       "      border: none;\n",
       "      border-radius: 50%;\n",
       "      cursor: pointer;\n",
       "      display: none;\n",
       "      fill: #1967D2;\n",
       "      height: 32px;\n",
       "      padding: 0 0 0 0;\n",
       "      width: 32px;\n",
       "    }\n",
       "\n",
       "    .colab-df-convert:hover {\n",
       "      background-color: #E2EBFA;\n",
       "      box-shadow: 0px 1px 2px rgba(60, 64, 67, 0.3), 0px 1px 3px 1px rgba(60, 64, 67, 0.15);\n",
       "      fill: #174EA6;\n",
       "    }\n",
       "\n",
       "    [theme=dark] .colab-df-convert {\n",
       "      background-color: #3B4455;\n",
       "      fill: #D2E3FC;\n",
       "    }\n",
       "\n",
       "    [theme=dark] .colab-df-convert:hover {\n",
       "      background-color: #434B5C;\n",
       "      box-shadow: 0px 1px 3px 1px rgba(0, 0, 0, 0.15);\n",
       "      filter: drop-shadow(0px 1px 2px rgba(0, 0, 0, 0.3));\n",
       "      fill: #FFFFFF;\n",
       "    }\n",
       "  </style>\n",
       "\n",
       "      <script>\n",
       "        const buttonEl =\n",
       "          document.querySelector('#df-8587e71d-f89b-4b57-88af-8c113e36a127 button.colab-df-convert');\n",
       "        buttonEl.style.display =\n",
       "          google.colab.kernel.accessAllowed ? 'block' : 'none';\n",
       "\n",
       "        async function convertToInteractive(key) {\n",
       "          const element = document.querySelector('#df-8587e71d-f89b-4b57-88af-8c113e36a127');\n",
       "          const dataTable =\n",
       "            await google.colab.kernel.invokeFunction('convertToInteractive',\n",
       "                                                     [key], {});\n",
       "          if (!dataTable) return;\n",
       "\n",
       "          const docLinkHtml = 'Like what you see? Visit the ' +\n",
       "            '<a target=\"_blank\" href=https://colab.research.google.com/notebooks/data_table.ipynb>data table notebook</a>'\n",
       "            + ' to learn more about interactive tables.';\n",
       "          element.innerHTML = '';\n",
       "          dataTable['output_type'] = 'display_data';\n",
       "          await google.colab.output.renderOutput(dataTable, element);\n",
       "          const docLink = document.createElement('div');\n",
       "          docLink.innerHTML = docLinkHtml;\n",
       "          element.appendChild(docLink);\n",
       "        }\n",
       "      </script>\n",
       "    </div>\n",
       "  </div>\n",
       "  "
      ],
      "text/plain": [
       "       reviewerID        asin                 reviewerName helpful  \\\n",
       "0  A1KLRMWW2FWPL4  0000031887  Amazon Customer \"cameramom\"  [0, 0]   \n",
       "1  A2G5TCU2WDFZ65  0000031887              Amazon Customer  [0, 0]   \n",
       "2  A1RLQXYNCMWRWN  0000031887                       Carola  [0, 0]   \n",
       "3   A8U3FAMSJVHS5  0000031887                      Caromcg  [0, 0]   \n",
       "4  A3GEOILWLK86XM  0000031887                           CJ  [0, 0]   \n",
       "\n",
       "                                          reviewText  overall  \\\n",
       "0  This is a great tutu and at a really great pri...        5   \n",
       "1  I bought this for my 4 yr old daughter for dan...        5   \n",
       "2  What can I say... my daughters have it in oran...        5   \n",
       "3  We bought several tutus at once, and they are ...        5   \n",
       "4  Thank you Halo Heaven great product for Little...        5   \n",
       "\n",
       "                         summary  unixReviewTime   reviewTime  \n",
       "0  Great tutu-  not cheaply made      1297468800  02 12, 2011  \n",
       "1                    Very Cute!!      1358553600  01 19, 2013  \n",
       "2       I have buy more than one      1357257600   01 4, 2013  \n",
       "3               Adorable, Sturdy      1398556800  04 27, 2014  \n",
       "4        Grammy's Angels Love it      1394841600  03 15, 2014  "
      ]
     },
     "execution_count": 5,
     "metadata": {},
     "output_type": "execute_result"
    }
   ],
   "source": [
    "# load dataset\n",
    "df = pd.read_json('Data/Clothing_Shoes_and_Jewelry_5.json', lines=True)\n",
    "df.head()"
   ]
  },
  {
   "cell_type": "code",
   "execution_count": 6,
   "id": "b0d6bf5a",
   "metadata": {
    "colab": {
     "base_uri": "https://localhost:8080/",
     "height": 206
    },
    "executionInfo": {
     "elapsed": 16,
     "status": "ok",
     "timestamp": 1688396423387,
     "user": {
      "displayName": "Nguyễn Hiền",
      "userId": "00409256608262569049"
     },
     "user_tz": -420
    },
    "id": "b0d6bf5a",
    "outputId": "8feb735b-51b8-4f4e-8c6d-cc9e2471e837"
   },
   "outputs": [
    {
     "data": {
      "text/html": [
       "\n",
       "  <div id=\"df-a8cdbe2b-76a9-42f6-bc25-4d4f60dbd4e3\">\n",
       "    <div class=\"colab-df-container\">\n",
       "      <div>\n",
       "<style scoped>\n",
       "    .dataframe tbody tr th:only-of-type {\n",
       "        vertical-align: middle;\n",
       "    }\n",
       "\n",
       "    .dataframe tbody tr th {\n",
       "        vertical-align: top;\n",
       "    }\n",
       "\n",
       "    .dataframe thead th {\n",
       "        text-align: right;\n",
       "    }\n",
       "</style>\n",
       "<table border=\"1\" class=\"dataframe\">\n",
       "  <thead>\n",
       "    <tr style=\"text-align: right;\">\n",
       "      <th></th>\n",
       "      <th>reviewText</th>\n",
       "      <th>overall</th>\n",
       "    </tr>\n",
       "  </thead>\n",
       "  <tbody>\n",
       "    <tr>\n",
       "      <th>0</th>\n",
       "      <td>This is a great tutu and at a really great pri...</td>\n",
       "      <td>5</td>\n",
       "    </tr>\n",
       "    <tr>\n",
       "      <th>1</th>\n",
       "      <td>I bought this for my 4 yr old daughter for dan...</td>\n",
       "      <td>5</td>\n",
       "    </tr>\n",
       "    <tr>\n",
       "      <th>2</th>\n",
       "      <td>What can I say... my daughters have it in oran...</td>\n",
       "      <td>5</td>\n",
       "    </tr>\n",
       "    <tr>\n",
       "      <th>3</th>\n",
       "      <td>We bought several tutus at once, and they are ...</td>\n",
       "      <td>5</td>\n",
       "    </tr>\n",
       "    <tr>\n",
       "      <th>4</th>\n",
       "      <td>Thank you Halo Heaven great product for Little...</td>\n",
       "      <td>5</td>\n",
       "    </tr>\n",
       "  </tbody>\n",
       "</table>\n",
       "</div>\n",
       "      <button class=\"colab-df-convert\" onclick=\"convertToInteractive('df-a8cdbe2b-76a9-42f6-bc25-4d4f60dbd4e3')\"\n",
       "              title=\"Convert this dataframe to an interactive table.\"\n",
       "              style=\"display:none;\">\n",
       "        \n",
       "  <svg xmlns=\"http://www.w3.org/2000/svg\" height=\"24px\"viewBox=\"0 0 24 24\"\n",
       "       width=\"24px\">\n",
       "    <path d=\"M0 0h24v24H0V0z\" fill=\"none\"/>\n",
       "    <path d=\"M18.56 5.44l.94 2.06.94-2.06 2.06-.94-2.06-.94-.94-2.06-.94 2.06-2.06.94zm-11 1L8.5 8.5l.94-2.06 2.06-.94-2.06-.94L8.5 2.5l-.94 2.06-2.06.94zm10 10l.94 2.06.94-2.06 2.06-.94-2.06-.94-.94-2.06-.94 2.06-2.06.94z\"/><path d=\"M17.41 7.96l-1.37-1.37c-.4-.4-.92-.59-1.43-.59-.52 0-1.04.2-1.43.59L10.3 9.45l-7.72 7.72c-.78.78-.78 2.05 0 2.83L4 21.41c.39.39.9.59 1.41.59.51 0 1.02-.2 1.41-.59l7.78-7.78 2.81-2.81c.8-.78.8-2.07 0-2.86zM5.41 20L4 18.59l7.72-7.72 1.47 1.35L5.41 20z\"/>\n",
       "  </svg>\n",
       "      </button>\n",
       "      \n",
       "  <style>\n",
       "    .colab-df-container {\n",
       "      display:flex;\n",
       "      flex-wrap:wrap;\n",
       "      gap: 12px;\n",
       "    }\n",
       "\n",
       "    .colab-df-convert {\n",
       "      background-color: #E8F0FE;\n",
       "      border: none;\n",
       "      border-radius: 50%;\n",
       "      cursor: pointer;\n",
       "      display: none;\n",
       "      fill: #1967D2;\n",
       "      height: 32px;\n",
       "      padding: 0 0 0 0;\n",
       "      width: 32px;\n",
       "    }\n",
       "\n",
       "    .colab-df-convert:hover {\n",
       "      background-color: #E2EBFA;\n",
       "      box-shadow: 0px 1px 2px rgba(60, 64, 67, 0.3), 0px 1px 3px 1px rgba(60, 64, 67, 0.15);\n",
       "      fill: #174EA6;\n",
       "    }\n",
       "\n",
       "    [theme=dark] .colab-df-convert {\n",
       "      background-color: #3B4455;\n",
       "      fill: #D2E3FC;\n",
       "    }\n",
       "\n",
       "    [theme=dark] .colab-df-convert:hover {\n",
       "      background-color: #434B5C;\n",
       "      box-shadow: 0px 1px 3px 1px rgba(0, 0, 0, 0.15);\n",
       "      filter: drop-shadow(0px 1px 2px rgba(0, 0, 0, 0.3));\n",
       "      fill: #FFFFFF;\n",
       "    }\n",
       "  </style>\n",
       "\n",
       "      <script>\n",
       "        const buttonEl =\n",
       "          document.querySelector('#df-a8cdbe2b-76a9-42f6-bc25-4d4f60dbd4e3 button.colab-df-convert');\n",
       "        buttonEl.style.display =\n",
       "          google.colab.kernel.accessAllowed ? 'block' : 'none';\n",
       "\n",
       "        async function convertToInteractive(key) {\n",
       "          const element = document.querySelector('#df-a8cdbe2b-76a9-42f6-bc25-4d4f60dbd4e3');\n",
       "          const dataTable =\n",
       "            await google.colab.kernel.invokeFunction('convertToInteractive',\n",
       "                                                     [key], {});\n",
       "          if (!dataTable) return;\n",
       "\n",
       "          const docLinkHtml = 'Like what you see? Visit the ' +\n",
       "            '<a target=\"_blank\" href=https://colab.research.google.com/notebooks/data_table.ipynb>data table notebook</a>'\n",
       "            + ' to learn more about interactive tables.';\n",
       "          element.innerHTML = '';\n",
       "          dataTable['output_type'] = 'display_data';\n",
       "          await google.colab.output.renderOutput(dataTable, element);\n",
       "          const docLink = document.createElement('div');\n",
       "          docLink.innerHTML = docLinkHtml;\n",
       "          element.appendChild(docLink);\n",
       "        }\n",
       "      </script>\n",
       "    </div>\n",
       "  </div>\n",
       "  "
      ],
      "text/plain": [
       "                                          reviewText  overall\n",
       "0  This is a great tutu and at a really great pri...        5\n",
       "1  I bought this for my 4 yr old daughter for dan...        5\n",
       "2  What can I say... my daughters have it in oran...        5\n",
       "3  We bought several tutus at once, and they are ...        5\n",
       "4  Thank you Halo Heaven great product for Little...        5"
      ]
     },
     "execution_count": 6,
     "metadata": {},
     "output_type": "execute_result"
    }
   ],
   "source": [
    "data = df[['reviewText','overall']]\n",
    "data.head()"
   ]
  },
  {
   "cell_type": "markdown",
   "id": "92fb2644",
   "metadata": {
    "id": "92fb2644"
   },
   "source": [
    "#### Note:\n",
    "* Chia thành 2 nhóm đối với bài toán này: like: 4 or 5 stars, dislike: 1 or 2 stars"
   ]
  },
  {
   "cell_type": "code",
   "execution_count": 7,
   "id": "cde12c5f",
   "metadata": {
    "colab": {
     "base_uri": "https://localhost:8080/",
     "height": 206
    },
    "executionInfo": {
     "elapsed": 15,
     "status": "ok",
     "timestamp": 1688396423387,
     "user": {
      "displayName": "Nguyễn Hiền",
      "userId": "00409256608262569049"
     },
     "user_tz": -420
    },
    "id": "cde12c5f",
    "outputId": "237aa898-4786-49d1-dacf-be4a865b40f0"
   },
   "outputs": [
    {
     "data": {
      "text/html": [
       "\n",
       "  <div id=\"df-069720dc-4584-4bec-bf29-789daee784b9\">\n",
       "    <div class=\"colab-df-container\">\n",
       "      <div>\n",
       "<style scoped>\n",
       "    .dataframe tbody tr th:only-of-type {\n",
       "        vertical-align: middle;\n",
       "    }\n",
       "\n",
       "    .dataframe tbody tr th {\n",
       "        vertical-align: top;\n",
       "    }\n",
       "\n",
       "    .dataframe thead th {\n",
       "        text-align: right;\n",
       "    }\n",
       "</style>\n",
       "<table border=\"1\" class=\"dataframe\">\n",
       "  <thead>\n",
       "    <tr style=\"text-align: right;\">\n",
       "      <th></th>\n",
       "      <th>reviewText</th>\n",
       "      <th>overall</th>\n",
       "    </tr>\n",
       "  </thead>\n",
       "  <tbody>\n",
       "    <tr>\n",
       "      <th>0</th>\n",
       "      <td>This is a great tutu and at a really great pri...</td>\n",
       "      <td>like</td>\n",
       "    </tr>\n",
       "    <tr>\n",
       "      <th>1</th>\n",
       "      <td>I bought this for my 4 yr old daughter for dan...</td>\n",
       "      <td>like</td>\n",
       "    </tr>\n",
       "    <tr>\n",
       "      <th>2</th>\n",
       "      <td>What can I say... my daughters have it in oran...</td>\n",
       "      <td>like</td>\n",
       "    </tr>\n",
       "    <tr>\n",
       "      <th>3</th>\n",
       "      <td>We bought several tutus at once, and they are ...</td>\n",
       "      <td>like</td>\n",
       "    </tr>\n",
       "    <tr>\n",
       "      <th>4</th>\n",
       "      <td>Thank you Halo Heaven great product for Little...</td>\n",
       "      <td>like</td>\n",
       "    </tr>\n",
       "  </tbody>\n",
       "</table>\n",
       "</div>\n",
       "      <button class=\"colab-df-convert\" onclick=\"convertToInteractive('df-069720dc-4584-4bec-bf29-789daee784b9')\"\n",
       "              title=\"Convert this dataframe to an interactive table.\"\n",
       "              style=\"display:none;\">\n",
       "        \n",
       "  <svg xmlns=\"http://www.w3.org/2000/svg\" height=\"24px\"viewBox=\"0 0 24 24\"\n",
       "       width=\"24px\">\n",
       "    <path d=\"M0 0h24v24H0V0z\" fill=\"none\"/>\n",
       "    <path d=\"M18.56 5.44l.94 2.06.94-2.06 2.06-.94-2.06-.94-.94-2.06-.94 2.06-2.06.94zm-11 1L8.5 8.5l.94-2.06 2.06-.94-2.06-.94L8.5 2.5l-.94 2.06-2.06.94zm10 10l.94 2.06.94-2.06 2.06-.94-2.06-.94-.94-2.06-.94 2.06-2.06.94z\"/><path d=\"M17.41 7.96l-1.37-1.37c-.4-.4-.92-.59-1.43-.59-.52 0-1.04.2-1.43.59L10.3 9.45l-7.72 7.72c-.78.78-.78 2.05 0 2.83L4 21.41c.39.39.9.59 1.41.59.51 0 1.02-.2 1.41-.59l7.78-7.78 2.81-2.81c.8-.78.8-2.07 0-2.86zM5.41 20L4 18.59l7.72-7.72 1.47 1.35L5.41 20z\"/>\n",
       "  </svg>\n",
       "      </button>\n",
       "      \n",
       "  <style>\n",
       "    .colab-df-container {\n",
       "      display:flex;\n",
       "      flex-wrap:wrap;\n",
       "      gap: 12px;\n",
       "    }\n",
       "\n",
       "    .colab-df-convert {\n",
       "      background-color: #E8F0FE;\n",
       "      border: none;\n",
       "      border-radius: 50%;\n",
       "      cursor: pointer;\n",
       "      display: none;\n",
       "      fill: #1967D2;\n",
       "      height: 32px;\n",
       "      padding: 0 0 0 0;\n",
       "      width: 32px;\n",
       "    }\n",
       "\n",
       "    .colab-df-convert:hover {\n",
       "      background-color: #E2EBFA;\n",
       "      box-shadow: 0px 1px 2px rgba(60, 64, 67, 0.3), 0px 1px 3px 1px rgba(60, 64, 67, 0.15);\n",
       "      fill: #174EA6;\n",
       "    }\n",
       "\n",
       "    [theme=dark] .colab-df-convert {\n",
       "      background-color: #3B4455;\n",
       "      fill: #D2E3FC;\n",
       "    }\n",
       "\n",
       "    [theme=dark] .colab-df-convert:hover {\n",
       "      background-color: #434B5C;\n",
       "      box-shadow: 0px 1px 3px 1px rgba(0, 0, 0, 0.15);\n",
       "      filter: drop-shadow(0px 1px 2px rgba(0, 0, 0, 0.3));\n",
       "      fill: #FFFFFF;\n",
       "    }\n",
       "  </style>\n",
       "\n",
       "      <script>\n",
       "        const buttonEl =\n",
       "          document.querySelector('#df-069720dc-4584-4bec-bf29-789daee784b9 button.colab-df-convert');\n",
       "        buttonEl.style.display =\n",
       "          google.colab.kernel.accessAllowed ? 'block' : 'none';\n",
       "\n",
       "        async function convertToInteractive(key) {\n",
       "          const element = document.querySelector('#df-069720dc-4584-4bec-bf29-789daee784b9');\n",
       "          const dataTable =\n",
       "            await google.colab.kernel.invokeFunction('convertToInteractive',\n",
       "                                                     [key], {});\n",
       "          if (!dataTable) return;\n",
       "\n",
       "          const docLinkHtml = 'Like what you see? Visit the ' +\n",
       "            '<a target=\"_blank\" href=https://colab.research.google.com/notebooks/data_table.ipynb>data table notebook</a>'\n",
       "            + ' to learn more about interactive tables.';\n",
       "          element.innerHTML = '';\n",
       "          dataTable['output_type'] = 'display_data';\n",
       "          await google.colab.output.renderOutput(dataTable, element);\n",
       "          const docLink = document.createElement('div');\n",
       "          docLink.innerHTML = docLinkHtml;\n",
       "          element.appendChild(docLink);\n",
       "        }\n",
       "      </script>\n",
       "    </div>\n",
       "  </div>\n",
       "  "
      ],
      "text/plain": [
       "                                          reviewText overall\n",
       "0  This is a great tutu and at a really great pri...    like\n",
       "1  I bought this for my 4 yr old daughter for dan...    like\n",
       "2  What can I say... my daughters have it in oran...    like\n",
       "3  We bought several tutus at once, and they are ...    like\n",
       "4  Thank you Halo Heaven great product for Little...    like"
      ]
     },
     "execution_count": 7,
     "metadata": {},
     "output_type": "execute_result"
    }
   ],
   "source": [
    "map_lst = {1: 'dislike', 2:'dislike', 4:'like', 5:'like'}\n",
    "data = data.replace({\"overall\": map_lst})\n",
    "data.head()"
   ]
  },
  {
   "cell_type": "code",
   "execution_count": 8,
   "id": "cbaa3188",
   "metadata": {
    "executionInfo": {
     "elapsed": 14,
     "status": "ok",
     "timestamp": 1688396423387,
     "user": {
      "displayName": "Nguyễn Hiền",
      "userId": "00409256608262569049"
     },
     "user_tz": -420
    },
    "id": "cbaa3188"
   },
   "outputs": [],
   "source": [
    "data = data.drop(data[data.overall == 3].index)"
   ]
  },
  {
   "cell_type": "code",
   "execution_count": 9,
   "id": "21a5aad8",
   "metadata": {
    "colab": {
     "base_uri": "https://localhost:8080/"
    },
    "executionInfo": {
     "elapsed": 543,
     "status": "ok",
     "timestamp": 1688396423916,
     "user": {
      "displayName": "Nguyễn Hiền",
      "userId": "00409256608262569049"
     },
     "user_tz": -420
    },
    "id": "21a5aad8",
    "outputId": "4d296dd9-d564-4b7d-e666-ea5e77cb974f"
   },
   "outputs": [
    {
     "data": {
      "text/plain": [
       "like       221597\n",
       "dislike     26655\n",
       "Name: overall, dtype: int64"
      ]
     },
     "execution_count": 9,
     "metadata": {},
     "output_type": "execute_result"
    }
   ],
   "source": [
    "data['overall'].value_counts()\n",
    "# dữ liệu không cân bằng"
   ]
  },
  {
   "cell_type": "code",
   "execution_count": 10,
   "id": "9f0250e7",
   "metadata": {
    "colab": {
     "base_uri": "https://localhost:8080/"
    },
    "executionInfo": {
     "elapsed": 8,
     "status": "ok",
     "timestamp": 1688396423916,
     "user": {
      "displayName": "Nguyễn Hiền",
      "userId": "00409256608262569049"
     },
     "user_tz": -420
    },
    "id": "9f0250e7",
    "outputId": "f8a2502e-cc9c-4d03-cfbd-fb0636a5760c"
   },
   "outputs": [
    {
     "data": {
      "text/plain": [
       "1    221597\n",
       "0     26655\n",
       "Name: overall, dtype: int64"
      ]
     },
     "execution_count": 10,
     "metadata": {},
     "output_type": "execute_result"
    }
   ],
   "source": [
    "map_output = {'dislike':0, 'like':1}\n",
    "data = data.replace({\"overall\": map_output})\n",
    "data['overall'].value_counts()"
   ]
  },
  {
   "cell_type": "markdown",
   "id": "71699d47",
   "metadata": {
    "id": "71699d47"
   },
   "source": [
    "## Tiền xử lý dữ liệu"
   ]
  },
  {
   "cell_type": "code",
   "execution_count": 11,
   "id": "29082515",
   "metadata": {
    "colab": {
     "base_uri": "https://localhost:8080/"
    },
    "executionInfo": {
     "elapsed": 481,
     "status": "ok",
     "timestamp": 1688396424396,
     "user": {
      "displayName": "Nguyễn Hiền",
      "userId": "00409256608262569049"
     },
     "user_tz": -420
    },
    "id": "29082515",
    "outputId": "ea5a920b-5d50-4abb-c897-7ebe586572ef"
   },
   "outputs": [
    {
     "name": "stdout",
     "output_type": "stream",
     "text": [
      "reviewText    0\n",
      "overall       0\n",
      "dtype: int64\n"
     ]
    }
   ],
   "source": [
    "# Check for missing values\n",
    "print(data.isnull().sum())"
   ]
  },
  {
   "cell_type": "code",
   "execution_count": 12,
   "id": "8468ea87",
   "metadata": {
    "colab": {
     "base_uri": "https://localhost:8080/"
    },
    "executionInfo": {
     "elapsed": 1851,
     "status": "ok",
     "timestamp": 1688396426246,
     "user": {
      "displayName": "Nguyễn Hiền",
      "userId": "00409256608262569049"
     },
     "user_tz": -420
    },
    "id": "8468ea87",
    "outputId": "142dd27f-05b7-4fb4-b0b4-a0c2305142cb"
   },
   "outputs": [
    {
     "data": {
      "text/plain": [
       "count    248252.000000\n",
       "mean         59.385423\n",
       "std          60.252893\n",
       "min           0.000000\n",
       "25%          26.000000\n",
       "50%          40.000000\n",
       "75%          69.000000\n",
       "max        2158.000000\n",
       "Name: WORDS, dtype: float64"
      ]
     },
     "execution_count": 12,
     "metadata": {},
     "output_type": "execute_result"
    }
   ],
   "source": [
    "# Count the number of words in each comment.\n",
    "data['WORDS'] = data['reviewText'].apply(lambda x: len(x.split()))\n",
    "data['WORDS'].describe()"
   ]
  },
  {
   "cell_type": "code",
   "execution_count": 13,
   "id": "55fb1dd5",
   "metadata": {
    "colab": {
     "base_uri": "https://localhost:8080/",
     "height": 449
    },
    "executionInfo": {
     "elapsed": 546,
     "status": "ok",
     "timestamp": 1688396426789,
     "user": {
      "displayName": "Nguyễn Hiền",
      "userId": "00409256608262569049"
     },
     "user_tz": -420
    },
    "id": "55fb1dd5",
    "outputId": "cb61bb79-cc41-4f7b-aa83-df81bb5fd8a3"
   },
   "outputs": [
    {
     "data": {
      "text/plain": [
       "<Axes: >"
      ]
     },
     "execution_count": 13,
     "metadata": {},
     "output_type": "execute_result"
    },
    {
     "data": {
      "image/png": "[encoded data removed]",
      "text/plain": [
       "<Figure size 640x480 with 1 Axes>"
      ]
     },
     "metadata": {},
     "output_type": "display_data"
    }
   ],
   "source": [
    "# Plot a histogram of the number of words in each comment.\n",
    "data['WORDS'].hist(bins=50)"
   ]
  },
  {
   "cell_type": "code",
   "execution_count": 14,
   "id": "abebcc96",
   "metadata": {
    "colab": {
     "base_uri": "https://localhost:8080/",
     "height": 499
    },
    "executionInfo": {
     "elapsed": 548,
     "status": "ok",
     "timestamp": 1688396427329,
     "user": {
      "displayName": "Nguyễn Hiền",
      "userId": "00409256608262569049"
     },
     "user_tz": -420
    },
    "id": "abebcc96",
    "outputId": "c4480141-cd00-4202-fe6c-5b44e6407bf5"
   },
   "outputs": [
    {
     "data": {
      "text/plain": [
       "overall\n",
       "0    Axes(0.125,0.11;0.775x0.77)\n",
       "1    Axes(0.125,0.11;0.775x0.77)\n",
       "Name: WORDS, dtype: object"
      ]
     },
     "execution_count": 14,
     "metadata": {},
     "output_type": "execute_result"
    },
    {
     "data": {
      "image/png": "[encoded data removed]",
      "text/plain": [
       "<Figure size 640x480 with 1 Axes>"
      ]
     },
     "metadata": {},
     "output_type": "display_data"
    }
   ],
   "source": [
    "# Grouping by class, and plot the histograms.\n",
    "data.groupby('overall')['WORDS'].hist(bins=50, alpha=0.8)"
   ]
  },
  {
   "cell_type": "markdown",
   "id": "2b9b602d",
   "metadata": {},
   "source": [
    "**Nhận xét:**\n",
    "* Có chênh lệch lớn trong số lượng chữ trung bình của review trong 2 class"
   ]
  },
  {
   "cell_type": "markdown",
   "id": "2164f584",
   "metadata": {
    "id": "2164f584"
   },
   "source": [
    "### Text Preprocessing"
   ]
  },
  {
   "cell_type": "code",
   "execution_count": 15,
   "id": "4a0efa55",
   "metadata": {
    "executionInfo": {
     "elapsed": 11,
     "status": "ok",
     "timestamp": 1688396427330,
     "user": {
      "displayName": "Nguyễn Hiền",
      "userId": "00409256608262569049"
     },
     "user_tz": -420
    },
    "id": "4a0efa55"
   },
   "outputs": [],
   "source": [
    "stop_words = stopwords.words('english')\n",
    "stemmer = SnowballStemmer('english')\n",
    "\n",
    "text_cleaning_re = \"@\\S+|https?:\\S+|http?:\\S|[^A-Za-z0-9]+\""
   ]
  },
  {
   "cell_type": "code",
   "execution_count": 16,
   "id": "c3c220eb",
   "metadata": {
    "executionInfo": {
     "elapsed": 10,
     "status": "ok",
     "timestamp": 1688396427330,
     "user": {
      "displayName": "Nguyễn Hiền",
      "userId": "00409256608262569049"
     },
     "user_tz": -420
    },
    "id": "c3c220eb"
   },
   "outputs": [],
   "source": [
    "def preprocess(text, stem=False):\n",
    "    text = re.sub(text_cleaning_re, ' ', str(text).lower()).strip()\n",
    "    tokens = []\n",
    "    for token in text.split():\n",
    "        if token not in stop_words:\n",
    "            if stem:\n",
    "                tokens.append(stemmer.stem(token))\n",
    "            else:\n",
    "                tokens.append(token)\n",
    "    return \" \".join(tokens)"
   ]
  },
  {
   "cell_type": "code",
   "execution_count": 17,
   "id": "e70a2a88",
   "metadata": {
    "executionInfo": {
     "elapsed": 37239,
     "status": "ok",
     "timestamp": 1688396464559,
     "user": {
      "displayName": "Nguyễn Hiền",
      "userId": "00409256608262569049"
     },
     "user_tz": -420
    },
    "id": "e70a2a88"
   },
   "outputs": [],
   "source": [
    "data.reviewText = data.reviewText.apply(lambda x: preprocess(x))"
   ]
  },
  {
   "cell_type": "code",
   "execution_count": 18,
   "id": "eed2a3db",
   "metadata": {
    "colab": {
     "base_uri": "https://localhost:8080/",
     "height": 206
    },
    "executionInfo": {
     "elapsed": 20,
     "status": "ok",
     "timestamp": 1688396464559,
     "user": {
      "displayName": "Nguyễn Hiền",
      "userId": "00409256608262569049"
     },
     "user_tz": -420
    },
    "id": "eed2a3db",
    "outputId": "c5ae77fd-4c7b-40bc-cdb0-5565218fc25d"
   },
   "outputs": [
    {
     "data": {
      "text/html": [
       "\n",
       "  <div id=\"df-d50c837a-f028-405c-ad75-9c5d92d51f7d\">\n",
       "    <div class=\"colab-df-container\">\n",
       "      <div>\n",
       "<style scoped>\n",
       "    .dataframe tbody tr th:only-of-type {\n",
       "        vertical-align: middle;\n",
       "    }\n",
       "\n",
       "    .dataframe tbody tr th {\n",
       "        vertical-align: top;\n",
       "    }\n",
       "\n",
       "    .dataframe thead th {\n",
       "        text-align: right;\n",
       "    }\n",
       "</style>\n",
       "<table border=\"1\" class=\"dataframe\">\n",
       "  <thead>\n",
       "    <tr style=\"text-align: right;\">\n",
       "      <th></th>\n",
       "      <th>reviewText</th>\n",
       "      <th>overall</th>\n",
       "      <th>WORDS</th>\n",
       "    </tr>\n",
       "  </thead>\n",
       "  <tbody>\n",
       "    <tr>\n",
       "      <th>0</th>\n",
       "      <td>great tutu really great price look cheap glad ...</td>\n",
       "      <td>1</td>\n",
       "      <td>35</td>\n",
       "    </tr>\n",
       "    <tr>\n",
       "      <th>1</th>\n",
       "      <td>bought 4 yr old daughter dance class wore toda...</td>\n",
       "      <td>1</td>\n",
       "      <td>61</td>\n",
       "    </tr>\n",
       "    <tr>\n",
       "      <th>2</th>\n",
       "      <td>say daughters orange black white pink thinking...</td>\n",
       "      <td>1</td>\n",
       "      <td>62</td>\n",
       "    </tr>\n",
       "    <tr>\n",
       "      <th>3</th>\n",
       "      <td>bought several tutus got high reviews sturdy s...</td>\n",
       "      <td>1</td>\n",
       "      <td>76</td>\n",
       "    </tr>\n",
       "    <tr>\n",
       "      <th>4</th>\n",
       "      <td>thank halo heaven great product little girls g...</td>\n",
       "      <td>1</td>\n",
       "      <td>80</td>\n",
       "    </tr>\n",
       "  </tbody>\n",
       "</table>\n",
       "</div>\n",
       "      <button class=\"colab-df-convert\" onclick=\"convertToInteractive('df-d50c837a-f028-405c-ad75-9c5d92d51f7d')\"\n",
       "              title=\"Convert this dataframe to an interactive table.\"\n",
       "              style=\"display:none;\">\n",
       "        \n",
       "  <svg xmlns=\"http://www.w3.org/2000/svg\" height=\"24px\"viewBox=\"0 0 24 24\"\n",
       "       width=\"24px\">\n",
       "    <path d=\"M0 0h24v24H0V0z\" fill=\"none\"/>\n",
       "    <path d=\"M18.56 5.44l.94 2.06.94-2.06 2.06-.94-2.06-.94-.94-2.06-.94 2.06-2.06.94zm-11 1L8.5 8.5l.94-2.06 2.06-.94-2.06-.94L8.5 2.5l-.94 2.06-2.06.94zm10 10l.94 2.06.94-2.06 2.06-.94-2.06-.94-.94-2.06-.94 2.06-2.06.94z\"/><path d=\"M17.41 7.96l-1.37-1.37c-.4-.4-.92-.59-1.43-.59-.52 0-1.04.2-1.43.59L10.3 9.45l-7.72 7.72c-.78.78-.78 2.05 0 2.83L4 21.41c.39.39.9.59 1.41.59.51 0 1.02-.2 1.41-.59l7.78-7.78 2.81-2.81c.8-.78.8-2.07 0-2.86zM5.41 20L4 18.59l7.72-7.72 1.47 1.35L5.41 20z\"/>\n",
       "  </svg>\n",
       "      </button>\n",
       "      \n",
       "  <style>\n",
       "    .colab-df-container {\n",
       "      display:flex;\n",
       "      flex-wrap:wrap;\n",
       "      gap: 12px;\n",
       "    }\n",
       "\n",
       "    .colab-df-convert {\n",
       "      background-color: #E8F0FE;\n",
       "      border: none;\n",
       "      border-radius: 50%;\n",
       "      cursor: pointer;\n",
       "      display: none;\n",
       "      fill: #1967D2;\n",
       "      height: 32px;\n",
       "      padding: 0 0 0 0;\n",
       "      width: 32px;\n",
       "    }\n",
       "\n",
       "    .colab-df-convert:hover {\n",
       "      background-color: #E2EBFA;\n",
       "      box-shadow: 0px 1px 2px rgba(60, 64, 67, 0.3), 0px 1px 3px 1px rgba(60, 64, 67, 0.15);\n",
       "      fill: #174EA6;\n",
       "    }\n",
       "\n",
       "    [theme=dark] .colab-df-convert {\n",
       "      background-color: #3B4455;\n",
       "      fill: #D2E3FC;\n",
       "    }\n",
       "\n",
       "    [theme=dark] .colab-df-convert:hover {\n",
       "      background-color: #434B5C;\n",
       "      box-shadow: 0px 1px 3px 1px rgba(0, 0, 0, 0.15);\n",
       "      filter: drop-shadow(0px 1px 2px rgba(0, 0, 0, 0.3));\n",
       "      fill: #FFFFFF;\n",
       "    }\n",
       "  </style>\n",
       "\n",
       "      <script>\n",
       "        const buttonEl =\n",
       "          document.querySelector('#df-d50c837a-f028-405c-ad75-9c5d92d51f7d button.colab-df-convert');\n",
       "        buttonEl.style.display =\n",
       "          google.colab.kernel.accessAllowed ? 'block' : 'none';\n",
       "\n",
       "        async function convertToInteractive(key) {\n",
       "          const element = document.querySelector('#df-d50c837a-f028-405c-ad75-9c5d92d51f7d');\n",
       "          const dataTable =\n",
       "            await google.colab.kernel.invokeFunction('convertToInteractive',\n",
       "                                                     [key], {});\n",
       "          if (!dataTable) return;\n",
       "\n",
       "          const docLinkHtml = 'Like what you see? Visit the ' +\n",
       "            '<a target=\"_blank\" href=https://colab.research.google.com/notebooks/data_table.ipynb>data table notebook</a>'\n",
       "            + ' to learn more about interactive tables.';\n",
       "          element.innerHTML = '';\n",
       "          dataTable['output_type'] = 'display_data';\n",
       "          await google.colab.output.renderOutput(dataTable, element);\n",
       "          const docLink = document.createElement('div');\n",
       "          docLink.innerHTML = docLinkHtml;\n",
       "          element.appendChild(docLink);\n",
       "        }\n",
       "      </script>\n",
       "    </div>\n",
       "  </div>\n",
       "  "
      ],
      "text/plain": [
       "                                          reviewText  overall  WORDS\n",
       "0  great tutu really great price look cheap glad ...        1     35\n",
       "1  bought 4 yr old daughter dance class wore toda...        1     61\n",
       "2  say daughters orange black white pink thinking...        1     62\n",
       "3  bought several tutus got high reviews sturdy s...        1     76\n",
       "4  thank halo heaven great product little girls g...        1     80"
      ]
     },
     "execution_count": 18,
     "metadata": {},
     "output_type": "execute_result"
    }
   ],
   "source": [
    "data.head()"
   ]
  },
  {
   "cell_type": "markdown",
   "id": "fd2694bd",
   "metadata": {
    "id": "fd2694bd"
   },
   "source": [
    "### Process the data\n",
    "\n",
    "* Tokenize the text into sequences.\n",
    "* Pad the sequences to the same length. Based on the histograms, `100` seems to be a good length."
   ]
  },
  {
   "cell_type": "code",
   "execution_count": 19,
   "id": "a0c9fdf9",
   "metadata": {
    "executionInfo": {
     "elapsed": 18,
     "status": "ok",
     "timestamp": 1688396464559,
     "user": {
      "displayName": "Nguyễn Hiền",
      "userId": "00409256608262569049"
     },
     "user_tz": -420
    },
    "id": "a0c9fdf9"
   },
   "outputs": [],
   "source": [
    "# Split the data into train and test sets.\n",
    "X_train, X_test, y_train, y_test = train_test_split(data['reviewText'], data['overall'], random_state=42, test_size=0.2)"
   ]
  },
  {
   "cell_type": "code",
   "execution_count": 20,
   "id": "ea5ad510",
   "metadata": {
    "executionInfo": {
     "elapsed": 19,
     "status": "ok",
     "timestamp": 1688396464560,
     "user": {
      "displayName": "Nguyễn Hiền",
      "userId": "00409256608262569049"
     },
     "user_tz": -420
    },
    "id": "ea5ad510"
   },
   "outputs": [],
   "source": [
    "max_len = 100\n",
    "max_words = 1000\n",
    "tokenizer = tf.keras.preprocessing.text.Tokenizer(num_words=max_words)"
   ]
  },
  {
   "cell_type": "code",
   "execution_count": 21,
   "id": "3fba6293",
   "metadata": {
    "executionInfo": {
     "elapsed": 5247,
     "status": "ok",
     "timestamp": 1688396469788,
     "user": {
      "displayName": "Nguyễn Hiền",
      "userId": "00409256608262569049"
     },
     "user_tz": -420
    },
    "id": "3fba6293"
   },
   "outputs": [],
   "source": [
    "tokenizer.fit_on_texts(X_train)"
   ]
  },
  {
   "cell_type": "code",
   "execution_count": 22,
   "id": "d2719f7a",
   "metadata": {
    "colab": {
     "base_uri": "https://localhost:8080/"
    },
    "executionInfo": {
     "elapsed": 14,
     "status": "ok",
     "timestamp": 1688396469788,
     "user": {
      "displayName": "Nguyễn Hiền",
      "userId": "00409256608262569049"
     },
     "user_tz": -420
    },
    "id": "d2719f7a",
    "outputId": "c1c5adc5-2b82-407c-a003-89b7b8f72b90"
   },
   "outputs": [
    {
     "data": {
      "text/plain": [
       "1000"
      ]
     },
     "execution_count": 22,
     "metadata": {},
     "output_type": "execute_result"
    }
   ],
   "source": [
    "# Num of unique words\n",
    "tokenizer.num_words"
   ]
  },
  {
   "cell_type": "code",
   "execution_count": 23,
   "id": "e4fca026",
   "metadata": {
    "executionInfo": {
     "elapsed": 6276,
     "status": "ok",
     "timestamp": 1688396476052,
     "user": {
      "displayName": "Nguyễn Hiền",
      "userId": "00409256608262569049"
     },
     "user_tz": -420
    },
    "id": "e4fca026"
   },
   "outputs": [],
   "source": [
    "X_train_seq = tokenizer.texts_to_sequences(X_train)\n",
    "X_test_seq = tokenizer.texts_to_sequences(X_test)"
   ]
  },
  {
   "cell_type": "code",
   "execution_count": 24,
   "id": "2c8a0589",
   "metadata": {
    "executionInfo": {
     "elapsed": 494,
     "status": "ok",
     "timestamp": 1688396476536,
     "user": {
      "displayName": "Nguyễn Hiền",
      "userId": "00409256608262569049"
     },
     "user_tz": -420
    },
    "id": "2c8a0589"
   },
   "outputs": [],
   "source": [
    "X_train_pad = tf.keras.preprocessing.sequence.pad_sequences(X_train_seq, maxlen=max_len, padding='pre', truncating='post')\n",
    "X_test_pad = tf.keras.preprocessing.sequence.pad_sequences(X_test_seq, maxlen=max_len, padding='pre', truncating='post')"
   ]
  },
  {
   "cell_type": "code",
   "execution_count": 25,
   "id": "3e7d0d49",
   "metadata": {
    "colab": {
     "base_uri": "https://localhost:8080/"
    },
    "executionInfo": {
     "elapsed": 6,
     "status": "ok",
     "timestamp": 1688396476537,
     "user": {
      "displayName": "Nguyễn Hiền",
      "userId": "00409256608262569049"
     },
     "user_tz": -420
    },
    "id": "3e7d0d49",
    "outputId": "537c2c56-73ef-4d90-ca46-1f1998bb068b"
   },
   "outputs": [
    {
     "name": "stdout",
     "output_type": "stream",
     "text": [
      "X_train shape: (198601, 100)\n",
      "X_test shape: (49651, 100)\n"
     ]
    }
   ],
   "source": [
    "# Print the shapes of the data.\n",
    "print(f'X_train shape: {X_train_pad.shape}')\n",
    "print(f'X_test shape: {X_test_pad.shape}')"
   ]
  },
  {
   "cell_type": "code",
   "execution_count": 26,
   "id": "07b35f96",
   "metadata": {
    "colab": {
     "base_uri": "https://localhost:8080/"
    },
    "executionInfo": {
     "elapsed": 5,
     "status": "ok",
     "timestamp": 1688396476537,
     "user": {
      "displayName": "Nguyễn Hiền",
      "userId": "00409256608262569049"
     },
     "user_tz": -420
    },
    "id": "07b35f96",
    "outputId": "6af04326-651f-4b70-cde1-0a04dff9ec7f"
   },
   "outputs": [
    {
     "name": "stdout",
     "output_type": "stream",
     "text": [
      "[  0   0   0   0   0   0   0   0   0   0   0   0   0   0   0   0   0   0\n",
      "   0   0   0   0   0   0   0   0   0   0   0   0   0   0   0   0   0   0\n",
      "   0   0   0   0   0   0   0   0   0   0   0   0   0   0   0   0   0   0\n",
      "   0   0   0   0   0   0   0   0   0   0   0   0   0   0   0   0   0   0\n",
      "   0   0   0   0   0   0   0   0   0   0   0   0   0   0   0  11 344  13\n",
      "  26 146 158 146  10 126   1  20  53  20]\n"
     ]
    }
   ],
   "source": [
    "# Print some example padded sequences.\n",
    "print(X_train_pad[100, :])"
   ]
  },
  {
   "cell_type": "markdown",
   "id": "a35a74cd",
   "metadata": {
    "id": "a35a74cd"
   },
   "source": [
    "## Build an LSTM model"
   ]
  },
  {
   "cell_type": "code",
   "execution_count": 27,
   "id": "4bfc423b",
   "metadata": {
    "executionInfo": {
     "elapsed": 2557,
     "status": "ok",
     "timestamp": 1688396479092,
     "user": {
      "displayName": "Nguyễn Hiền",
      "userId": "00409256608262569049"
     },
     "user_tz": -420
    },
    "id": "4bfc423b"
   },
   "outputs": [],
   "source": [
    "model = tf.keras.Sequential([\n",
    "    # Add an Embedding layer to convert integer values to word embeddings.\n",
    "    tf.keras.layers.Embedding(output_dim=50, input_length=max_len, input_dim=tokenizer.num_words),\n",
    "    # Add a LSTM layer with 128 internal units.\n",
    "    tf.keras.layers.Bidirectional(tf.keras.layers.LSTM(128, return_sequences=True)),\n",
    "    tf.keras.layers.LSTM(64, return_sequences=True),\n",
    "    tf.keras.layers.LSTM(32),\n",
    "\n",
    "\n",
    "    # Add a Dense layer\n",
    "    tf.keras.layers.Dense(units=256, activation='relu'),\n",
    "    # Add a Dropout layer to prevent overfitting.\n",
    "    tf.keras.layers.Dropout(rate=0.3),\n",
    "\n",
    "    # Add a Dense layer\n",
    "    tf.keras.layers.Dense(units=128, activation='relu'),\n",
    "    # Add a Dropout layer to prevent overfitting.\n",
    "    tf.keras.layers.Dropout(rate=0.3),\n",
    "\n",
    "\n",
    "    # Add the output layer.\n",
    "    tf.keras.layers.Dense(units=1, activation='sigmoid')    # We can use 1 unit with sigmoid activation and binary_crossentropy loss.\n",
    "])"
   ]
  },
  {
   "cell_type": "code",
   "execution_count": 28,
   "id": "45da6cfd",
   "metadata": {
    "executionInfo": {
     "elapsed": 11,
     "status": "ok",
     "timestamp": 1688396479093,
     "user": {
      "displayName": "Nguyễn Hiền",
      "userId": "00409256608262569049"
     },
     "user_tz": -420
    },
    "id": "45da6cfd"
   },
   "outputs": [],
   "source": [
    "# Compile the model.\n",
    "# Compile the model\n",
    "model.compile(\n",
    "    optimizer=tf.keras.optimizers.Adam(learning_rate=0.001),\n",
    "    loss='binary_crossentropy',\n",
    "    metrics=['accuracy']\n",
    ")\n",
    "\n",
    "# model.compile(optimizer='adam', loss='sparse_categorical_crossentropy', metrics=['accuracy'])"
   ]
  },
  {
   "cell_type": "code",
   "execution_count": 29,
   "id": "7e0da18f",
   "metadata": {
    "colab": {
     "base_uri": "https://localhost:8080/"
    },
    "executionInfo": {
     "elapsed": 10,
     "status": "ok",
     "timestamp": 1688396479093,
     "user": {
      "displayName": "Nguyễn Hiền",
      "userId": "00409256608262569049"
     },
     "user_tz": -420
    },
    "id": "7e0da18f",
    "outputId": "dbe7a10e-cf62-45c0-cec3-922f6c6a0caf"
   },
   "outputs": [
    {
     "name": "stdout",
     "output_type": "stream",
     "text": [
      "Model: \"sequential\"\n",
      "_________________________________________________________________\n",
      " Layer (type)                Output Shape              Param #   \n",
      "=================================================================\n",
      " embedding (Embedding)       (None, 100, 50)           50000     \n",
      "                                                                 \n",
      " bidirectional (Bidirectiona  (None, 100, 256)         183296    \n",
      " l)                                                              \n",
      "                                                                 \n",
      " lstm_1 (LSTM)               (None, 100, 64)           82176     \n",
      "                                                                 \n",
      " lstm_2 (LSTM)               (None, 32)                12416     \n",
      "                                                                 \n",
      " dense (Dense)               (None, 256)               8448      \n",
      "                                                                 \n",
      " dropout (Dropout)           (None, 256)               0         \n",
      "                                                                 \n",
      " dense_1 (Dense)             (None, 128)               32896     \n",
      "                                                                 \n",
      " dropout_1 (Dropout)         (None, 128)               0         \n",
      "                                                                 \n",
      " dense_2 (Dense)             (None, 1)                 129       \n",
      "                                                                 \n",
      "=================================================================\n",
      "Total params: 369,361\n",
      "Trainable params: 369,361\n",
      "Non-trainable params: 0\n",
      "_________________________________________________________________\n"
     ]
    }
   ],
   "source": [
    "# Print the model summary.\n",
    "model.summary()"
   ]
  },
  {
   "cell_type": "code",
   "execution_count": 30,
   "id": "9ba394b9",
   "metadata": {
    "executionInfo": {
     "elapsed": 5,
     "status": "ok",
     "timestamp": 1688396479093,
     "user": {
      "displayName": "Nguyễn Hiền",
      "userId": "00409256608262569049"
     },
     "user_tz": -420
    },
    "id": "9ba394b9"
   },
   "outputs": [],
   "source": [
    "# Early stopping\n",
    "early_stopping = tf.keras.callbacks.EarlyStopping(monitor='val_loss', patience=3, restore_best_weights=True)"
   ]
  },
  {
   "cell_type": "code",
   "execution_count": 31,
   "id": "610d0454",
   "metadata": {
    "colab": {
     "base_uri": "https://localhost:8080/"
    },
    "executionInfo": {
     "elapsed": 1233919,
     "status": "ok",
     "timestamp": 1688397713007,
     "user": {
      "displayName": "Nguyễn Hiền",
      "userId": "00409256608262569049"
     },
     "user_tz": -420
    },
    "id": "610d0454",
    "outputId": "3798faa8-3b62-4521-805e-375ba27f8a0e"
   },
   "outputs": [
    {
     "name": "stdout",
     "output_type": "stream",
     "text": [
      "Epoch 1/50\n",
      "5586/5586 [==============================] - 177s 30ms/step - loss: 0.2128 - accuracy: 0.9197 - val_loss: 0.1798 - val_accuracy: 0.9278\n",
      "Epoch 2/50\n",
      "5586/5586 [==============================] - 119s 21ms/step - loss: 0.1722 - accuracy: 0.9332 - val_loss: 0.1661 - val_accuracy: 0.9339\n",
      "Epoch 3/50\n",
      "5586/5586 [==============================] - 118s 21ms/step - loss: 0.1626 - accuracy: 0.9373 - val_loss: 0.1654 - val_accuracy: 0.9363\n",
      "Epoch 4/50\n",
      "5586/5586 [==============================] - 119s 21ms/step - loss: 0.1549 - accuracy: 0.9407 - val_loss: 0.1690 - val_accuracy: 0.9366\n",
      "Epoch 5/50\n",
      "5586/5586 [==============================] - 122s 22ms/step - loss: 0.1482 - accuracy: 0.9425 - val_loss: 0.1590 - val_accuracy: 0.9388\n",
      "Epoch 6/50\n",
      "5586/5586 [==============================] - 116s 21ms/step - loss: 0.1420 - accuracy: 0.9459 - val_loss: 0.1591 - val_accuracy: 0.9387\n",
      "Epoch 7/50\n",
      "5586/5586 [==============================] - 116s 21ms/step - loss: 0.1349 - accuracy: 0.9486 - val_loss: 0.1581 - val_accuracy: 0.9388\n",
      "Epoch 8/50\n",
      "5586/5586 [==============================] - 116s 21ms/step - loss: 0.1270 - accuracy: 0.9519 - val_loss: 0.1633 - val_accuracy: 0.9396\n",
      "Epoch 9/50\n",
      "5586/5586 [==============================] - 115s 21ms/step - loss: 0.1174 - accuracy: 0.9562 - val_loss: 0.1693 - val_accuracy: 0.9374\n",
      "Epoch 10/50\n",
      "5586/5586 [==============================] - 116s 21ms/step - loss: 0.1072 - accuracy: 0.9606 - val_loss: 0.1777 - val_accuracy: 0.9331\n"
     ]
    }
   ],
   "source": [
    "# Train the model.\n",
    "history = model.fit(X_train_pad,\n",
    "                    y_train,\n",
    "                    epochs=50,\n",
    "                    batch_size=32,\n",
    "                    validation_split=0.1,\n",
    "                    callbacks=[early_stopping])"
   ]
  },
  {
   "cell_type": "code",
   "execution_count": 32,
   "id": "b5be63ce",
   "metadata": {
    "colab": {
     "base_uri": "https://localhost:8080/",
     "height": 312
    },
    "executionInfo": {
     "elapsed": 55155,
     "status": "ok",
     "timestamp": 1688397768158,
     "user": {
      "displayName": "Nguyễn Hiền",
      "userId": "00409256608262569049"
     },
     "user_tz": -420
    },
    "id": "b5be63ce",
    "outputId": "fc3e7220-a2a9-4f0e-abb3-76f4b57a4bf0"
   },
   "outputs": [
    {
     "data": {
      "image/png": "[encoded data removed]",
      "text/plain": [
       "<Figure size 1000x300 with 2 Axes>"
      ]
     },
     "metadata": {},
     "output_type": "display_data"
    }
   ],
   "source": [
    "# Plot the loss and accuracy values achieved during training for the training and validation set.\n",
    "fig, ax = plt.subplots(1, 2, figsize=(10, 3))\n",
    "ax = ax.ravel()\n",
    "for i, met in enumerate(['accuracy', 'loss']):\n",
    "    ax[i].plot(history.history[met])\n",
    "    ax[i].plot(history.history['val_' + met])\n",
    "    ax[i].set_title('Model {}'.format(met))\n",
    "    ax[i].set_xlabel('epochs')\n",
    "    ax[i].set_ylabel(met)\n",
    "    ax[i].legend(['train', 'val'])"
   ]
  },
  {
   "cell_type": "code",
   "execution_count": 33,
   "id": "ca595aa3",
   "metadata": {
    "colab": {
     "base_uri": "https://localhost:8080/"
    },
    "executionInfo": {
     "elapsed": 20419,
     "status": "ok",
     "timestamp": 1688397788572,
     "user": {
      "displayName": "Nguyễn Hiền",
      "userId": "00409256608262569049"
     },
     "user_tz": -420
    },
    "id": "ca595aa3",
    "outputId": "8e8d2aab-1b83-41b2-dc29-1748e8a9aedf"
   },
   "outputs": [
    {
     "name": "stdout",
     "output_type": "stream",
     "text": [
      "1552/1552 [==============================] - 14s 9ms/step - loss: 0.1510 - accuracy: 0.9424\n"
     ]
    }
   ],
   "source": [
    "# Evaluate the model on the test set.\n",
    "score = model.evaluate(X_test_pad, y_test)"
   ]
  },
  {
   "cell_type": "code",
   "execution_count": 34,
   "id": "ad401f4b",
   "metadata": {
    "colab": {
     "base_uri": "https://localhost:8080/"
    },
    "executionInfo": {
     "elapsed": 14,
     "status": "ok",
     "timestamp": 1688397788572,
     "user": {
      "displayName": "Nguyễn Hiền",
      "userId": "00409256608262569049"
     },
     "user_tz": -420
    },
    "id": "ad401f4b",
    "outputId": "5a972825-5d4e-48cf-f262-71c6581af2ae"
   },
   "outputs": [
    {
     "name": "stdout",
     "output_type": "stream",
     "text": [
      "Test loss: 0.15102650225162506\n"
     ]
    }
   ],
   "source": [
    "print(f'Test loss: {score[0]}')"
   ]
  },
  {
   "cell_type": "code",
   "execution_count": 35,
   "id": "23eb12e4",
   "metadata": {
    "colab": {
     "base_uri": "https://localhost:8080/"
    },
    "executionInfo": {
     "elapsed": 13,
     "status": "ok",
     "timestamp": 1688397788573,
     "user": {
      "displayName": "Nguyễn Hiền",
      "userId": "00409256608262569049"
     },
     "user_tz": -420
    },
    "id": "23eb12e4",
    "outputId": "1a9a9919-05cc-4ec1-980b-1a3aac0b3f74"
   },
   "outputs": [
    {
     "name": "stdout",
     "output_type": "stream",
     "text": [
      "Test accuracy: 0.942418098449707\n"
     ]
    }
   ],
   "source": [
    "print(f'Test accuracy: {score[1]}')"
   ]
  },
  {
   "cell_type": "code",
   "execution_count": 36,
   "id": "bc96ccdd",
   "metadata": {
    "colab": {
     "base_uri": "https://localhost:8080/"
    },
    "executionInfo": {
     "elapsed": 21860,
     "status": "ok",
     "timestamp": 1688397810422,
     "user": {
      "displayName": "Nguyễn Hiền",
      "userId": "00409256608262569049"
     },
     "user_tz": -420
    },
    "id": "bc96ccdd",
    "outputId": "7f4bf78e-f93b-424b-dc4a-88b51e9d6ff7"
   },
   "outputs": [
    {
     "name": "stdout",
     "output_type": "stream",
     "text": [
      "1552/1552 [==============================] - 14s 8ms/step\n"
     ]
    }
   ],
   "source": [
    "y_pred = model.predict(X_test_pad)"
   ]
  },
  {
   "cell_type": "code",
   "execution_count": 37,
   "id": "7ca7593f",
   "metadata": {
    "colab": {
     "base_uri": "https://localhost:8080/"
    },
    "executionInfo": {
     "elapsed": 25,
     "status": "ok",
     "timestamp": 1688397810422,
     "user": {
      "displayName": "Nguyễn Hiền",
      "userId": "00409256608262569049"
     },
     "user_tz": -420
    },
    "id": "7ca7593f",
    "outputId": "425541ff-2a81-4805-d8ce-78596e8c8edc"
   },
   "outputs": [
    {
     "data": {
      "text/plain": [
       "array([[0.9999945 ],\n",
       "       [0.97565186],\n",
       "       [0.70056933],\n",
       "       ...,\n",
       "       [0.9999695 ],\n",
       "       [0.9974825 ],\n",
       "       [0.9919629 ]], dtype=float32)"
      ]
     },
     "execution_count": 37,
     "metadata": {},
     "output_type": "execute_result"
    }
   ],
   "source": [
    "y_pred"
   ]
  },
  {
   "cell_type": "code",
   "execution_count": 38,
   "id": "671b6a24",
   "metadata": {
    "executionInfo": {
     "elapsed": 24,
     "status": "ok",
     "timestamp": 1688397810423,
     "user": {
      "displayName": "Nguyễn Hiền",
      "userId": "00409256608262569049"
     },
     "user_tz": -420
    },
    "id": "671b6a24"
   },
   "outputs": [],
   "source": [
    "def decode_sentiment(score):\n",
    "    return 1 if score>0.5 else 0\n",
    "\n",
    "y_pred_label = [decode_sentiment(score) for score in y_pred]"
   ]
  },
  {
   "cell_type": "code",
   "execution_count": 39,
   "id": "95719b2d",
   "metadata": {
    "colab": {
     "base_uri": "https://localhost:8080/"
    },
    "executionInfo": {
     "elapsed": 22,
     "status": "ok",
     "timestamp": 1688397810423,
     "user": {
      "displayName": "Nguyễn Hiền",
      "userId": "00409256608262569049"
     },
     "user_tz": -420
    },
    "id": "95719b2d",
    "outputId": "87acea29-c045-433a-f630-0d5ebaaf1740"
   },
   "outputs": [
    {
     "data": {
      "text/plain": [
       "[1, 1, 1, 1, 1, 1, 1, 1, 1, 0]"
      ]
     },
     "execution_count": 39,
     "metadata": {},
     "output_type": "execute_result"
    }
   ],
   "source": [
    "y_pred_label[:10]"
   ]
  },
  {
   "cell_type": "markdown",
   "id": "9b83c529",
   "metadata": {
    "id": "9b83c529"
   },
   "source": [
    "### Confusion Matrix"
   ]
  },
  {
   "cell_type": "code",
   "execution_count": 40,
   "id": "IThS5KZZqvgv",
   "metadata": {
    "executionInfo": {
     "elapsed": 17,
     "status": "ok",
     "timestamp": 1688397810423,
     "user": {
      "displayName": "Nguyễn Hiền",
      "userId": "00409256608262569049"
     },
     "user_tz": -420
    },
    "id": "IThS5KZZqvgv"
   },
   "outputs": [],
   "source": [
    "import itertools\n",
    "from sklearn.metrics import confusion_matrix, classification_report, accuracy_score\n",
    "def plot_confusion_matrix(cm, classes,\n",
    "                          title='Confusion matrix',\n",
    "                          cmap=plt.cm.Blues):\n",
    "    \"\"\"\n",
    "    This function prints and plots the confusion matrix.\n",
    "    Normalization can be applied by setting `normalize=True`.\n",
    "    \"\"\"\n",
    "\n",
    "    cm = cm.astype('float') / cm.sum(axis=1)[:, np.newaxis]\n",
    "\n",
    "    plt.imshow(cm, interpolation='nearest', cmap=cmap)\n",
    "    plt.title(title, fontsize=20)\n",
    "    plt.colorbar()\n",
    "    tick_marks = np.arange(len(classes))\n",
    "    plt.xticks(tick_marks, classes, fontsize=13)\n",
    "    plt.yticks(tick_marks, classes, fontsize=13)\n",
    "\n",
    "    fmt = '.2f'\n",
    "    thresh = cm.max() / 2.\n",
    "    for i, j in itertools.product(range(cm.shape[0]), range(cm.shape[1])):\n",
    "        plt.text(j, i, format(cm[i, j], fmt),\n",
    "                 horizontalalignment=\"center\",\n",
    "                 color=\"white\" if cm[i, j] > thresh else \"black\")\n",
    "\n",
    "    plt.ylabel('True label', fontsize=17)\n",
    "    plt.xlabel('Predicted label', fontsize=17)"
   ]
  },
  {
   "cell_type": "code",
   "execution_count": 41,
   "id": "lZ17gEvjrD8W",
   "metadata": {
    "colab": {
     "base_uri": "https://localhost:8080/"
    },
    "executionInfo": {
     "elapsed": 17,
     "status": "ok",
     "timestamp": 1688397810423,
     "user": {
      "displayName": "Nguyễn Hiền",
      "userId": "00409256608262569049"
     },
     "user_tz": -420
    },
    "id": "lZ17gEvjrD8W",
    "outputId": "b91bb94f-c374-4d44-c894-790283c0f8d0"
   },
   "outputs": [
    {
     "name": "stdout",
     "output_type": "stream",
     "text": [
      "              precision    recall  f1-score   support\n",
      "\n",
      "           0       0.77      0.64      0.70      5204\n",
      "           1       0.96      0.98      0.97     44447\n",
      "\n",
      "    accuracy                           0.94     49651\n",
      "   macro avg       0.87      0.81      0.83     49651\n",
      "weighted avg       0.94      0.94      0.94     49651\n",
      "\n"
     ]
    }
   ],
   "source": [
    "print(classification_report(list(y_test), y_pred_label))"
   ]
  },
  {
   "cell_type": "code",
   "execution_count": 42,
   "id": "pcGgjGSLqtdv",
   "metadata": {
    "colab": {
     "base_uri": "https://localhost:8080/",
     "height": 511
    },
    "executionInfo": {
     "elapsed": 616,
     "status": "ok",
     "timestamp": 1688397811027,
     "user": {
      "displayName": "Nguyễn Hiền",
      "userId": "00409256608262569049"
     },
     "user_tz": -420
    },
    "id": "pcGgjGSLqtdv",
    "outputId": "4e392ac4-7bac-4215-b847-fb156df4deee"
   },
   "outputs": [
    {
     "data": {
      "image/png": "[encoded data removed]",
      "text/plain": [
       "<Figure size 600x600 with 2 Axes>"
      ]
     },
     "metadata": {},
     "output_type": "display_data"
    }
   ],
   "source": [
    "cnf_matrix = confusion_matrix(y_test.to_list(), y_pred_label)\n",
    "plt.figure(figsize=(6,6))\n",
    "plot_confusion_matrix(cnf_matrix, classes=y_test.unique(), title=\"Confusion matrix\")\n",
    "plt.show()"
   ]
  },
  {
   "cell_type": "markdown",
   "id": "9057b2f9",
   "metadata": {},
   "source": [
    "**Nhận xét:**\n",
    "* Từ kết quả trên có thể thấy mô hình có độ chính xác rất cao ~94%\n",
    "* Vẫn còn hiện tượng overfitting nhưng không nhiều\n",
    "* Điểm yếu của mô hình là precision và recall của class dislike có độ chính xác khá thấp so với class like, cần phải cải thiện thêm qua trong quá trình thử nghiệm mô hình"
   ]
  },
  {
   "cell_type": "code",
   "execution_count": null,
   "id": "4bf71c86",
   "metadata": {},
   "outputs": [],
   "source": []
  }
 ],
 "metadata": {
  "accelerator": "GPU",
  "colab": {
   "gpuType": "T4",
   "provenance": []
  },
  "kernelspec": {
   "display_name": "Python 3 (ipykernel)",
   "language": "python",
   "name": "python3"
  },
  "language_info": {
   "codemirror_mode": {
    "name": "ipython",
    "version": 3
   },
   "file_extension": ".py",
   "mimetype": "text/x-python",
   "name": "python",
   "nbconvert_exporter": "python",
   "pygments_lexer": "ipython3",
   "version": "3.9.16"
  }
 },
 "nbformat": 4,
 "nbformat_minor": 5
}
